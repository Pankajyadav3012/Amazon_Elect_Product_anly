{
  "nbformat": 4,
  "nbformat_minor": 0,
  "metadata": {
    "colab": {
      "provenance": []
    },
    "kernelspec": {
      "name": "python3",
      "display_name": "Python 3"
    },
    "language_info": {
      "name": "python"
    }
  },
  "cells": [
    {
      "cell_type": "code",
      "execution_count": 44,
      "metadata": {
        "id": "_p5kdbTOYw4n"
      },
      "outputs": [],
      "source": [
        "import pandas as pd\n",
        "import numpy as np"
      ]
    },
    {
      "cell_type": "code",
      "source": [
        "df = pd.read_csv(\"amazon_products1.csv\")"
      ],
      "metadata": {
        "id": "M1SR_UF5Y2xa"
      },
      "execution_count": 45,
      "outputs": []
    },
    {
      "cell_type": "code",
      "source": [
        "df.shape"
      ],
      "metadata": {
        "colab": {
          "base_uri": "https://localhost:8080/"
        },
        "id": "yBvJi9u9WRZb",
        "outputId": "99170138-86d5-40a8-abc5-b4d267061e6b"
      },
      "execution_count": 47,
      "outputs": [
        {
          "output_type": "execute_result",
          "data": {
            "text/plain": [
              "(1915, 7)"
            ]
          },
          "metadata": {},
          "execution_count": 47
        }
      ]
    },
    {
      "cell_type": "code",
      "source": [
        "df.head()"
      ],
      "metadata": {
        "colab": {
          "base_uri": "https://localhost:8080/",
          "height": 275
        },
        "id": "skWoZN1YY3En",
        "outputId": "9110822c-539d-4792-a3af-f6b267b5f2b4"
      },
      "execution_count": 48,
      "outputs": [
        {
          "output_type": "execute_result",
          "data": {
            "text/plain": [
              "  Category                                       Product Name     Price  \\\n",
              "0  Laptops                                                NaN   67,990.   \n",
              "1  Laptops                                            Results       NaN   \n",
              "2  Laptops  Lenovo Yoga Slim 7 Aura Edition Intel Evo Core...  1,47,990   \n",
              "3  Laptops  Lenovo ThinkBook 14 Intel 13th Gen Core i3 14\"...    43,990   \n",
              "4  Laptops  (Refurbished) Lenovo ThinkPad 8th Gen Intel Co...    18,499   \n",
              "\n",
              "               Rating Number of Reviews  Discounts  \\\n",
              "0                 NaN               NaN        NaN   \n",
              "1                 NaN               NaN        NaN   \n",
              "2  5.0 out of 5 stars                 3  (29% off)   \n",
              "3  4.1 out of 5 stars                15  (42% off)   \n",
              "4  3.4 out of 5 stars               173  (63% off)   \n",
              "\n",
              "                                                Link  \n",
              "0                                                NaN  \n",
              "1                                                NaN  \n",
              "2                 https://www.amazon.in/s?k=laptops#  \n",
              "3                 https://www.amazon.in/s?k=laptops#  \n",
              "4  https://www.amazon.in/Refurbished-Lenovo-Think...  "
            ],
            "text/html": [
              "\n",
              "  <div id=\"df-9949e14e-4b84-4e9f-ae62-3a39c2ab9642\" class=\"colab-df-container\">\n",
              "    <div>\n",
              "<style scoped>\n",
              "    .dataframe tbody tr th:only-of-type {\n",
              "        vertical-align: middle;\n",
              "    }\n",
              "\n",
              "    .dataframe tbody tr th {\n",
              "        vertical-align: top;\n",
              "    }\n",
              "\n",
              "    .dataframe thead th {\n",
              "        text-align: right;\n",
              "    }\n",
              "</style>\n",
              "<table border=\"1\" class=\"dataframe\">\n",
              "  <thead>\n",
              "    <tr style=\"text-align: right;\">\n",
              "      <th></th>\n",
              "      <th>Category</th>\n",
              "      <th>Product Name</th>\n",
              "      <th>Price</th>\n",
              "      <th>Rating</th>\n",
              "      <th>Number of Reviews</th>\n",
              "      <th>Discounts</th>\n",
              "      <th>Link</th>\n",
              "    </tr>\n",
              "  </thead>\n",
              "  <tbody>\n",
              "    <tr>\n",
              "      <th>0</th>\n",
              "      <td>Laptops</td>\n",
              "      <td>NaN</td>\n",
              "      <td>67,990.</td>\n",
              "      <td>NaN</td>\n",
              "      <td>NaN</td>\n",
              "      <td>NaN</td>\n",
              "      <td>NaN</td>\n",
              "    </tr>\n",
              "    <tr>\n",
              "      <th>1</th>\n",
              "      <td>Laptops</td>\n",
              "      <td>Results</td>\n",
              "      <td>NaN</td>\n",
              "      <td>NaN</td>\n",
              "      <td>NaN</td>\n",
              "      <td>NaN</td>\n",
              "      <td>NaN</td>\n",
              "    </tr>\n",
              "    <tr>\n",
              "      <th>2</th>\n",
              "      <td>Laptops</td>\n",
              "      <td>Lenovo Yoga Slim 7 Aura Edition Intel Evo Core...</td>\n",
              "      <td>1,47,990</td>\n",
              "      <td>5.0 out of 5 stars</td>\n",
              "      <td>3</td>\n",
              "      <td>(29% off)</td>\n",
              "      <td>https://www.amazon.in/s?k=laptops#</td>\n",
              "    </tr>\n",
              "    <tr>\n",
              "      <th>3</th>\n",
              "      <td>Laptops</td>\n",
              "      <td>Lenovo ThinkBook 14 Intel 13th Gen Core i3 14\"...</td>\n",
              "      <td>43,990</td>\n",
              "      <td>4.1 out of 5 stars</td>\n",
              "      <td>15</td>\n",
              "      <td>(42% off)</td>\n",
              "      <td>https://www.amazon.in/s?k=laptops#</td>\n",
              "    </tr>\n",
              "    <tr>\n",
              "      <th>4</th>\n",
              "      <td>Laptops</td>\n",
              "      <td>(Refurbished) Lenovo ThinkPad 8th Gen Intel Co...</td>\n",
              "      <td>18,499</td>\n",
              "      <td>3.4 out of 5 stars</td>\n",
              "      <td>173</td>\n",
              "      <td>(63% off)</td>\n",
              "      <td>https://www.amazon.in/Refurbished-Lenovo-Think...</td>\n",
              "    </tr>\n",
              "  </tbody>\n",
              "</table>\n",
              "</div>\n",
              "    <div class=\"colab-df-buttons\">\n",
              "\n",
              "  <div class=\"colab-df-container\">\n",
              "    <button class=\"colab-df-convert\" onclick=\"convertToInteractive('df-9949e14e-4b84-4e9f-ae62-3a39c2ab9642')\"\n",
              "            title=\"Convert this dataframe to an interactive table.\"\n",
              "            style=\"display:none;\">\n",
              "\n",
              "  <svg xmlns=\"http://www.w3.org/2000/svg\" height=\"24px\" viewBox=\"0 -960 960 960\">\n",
              "    <path d=\"M120-120v-720h720v720H120Zm60-500h600v-160H180v160Zm220 220h160v-160H400v160Zm0 220h160v-160H400v160ZM180-400h160v-160H180v160Zm440 0h160v-160H620v160ZM180-180h160v-160H180v160Zm440 0h160v-160H620v160Z\"/>\n",
              "  </svg>\n",
              "    </button>\n",
              "\n",
              "  <style>\n",
              "    .colab-df-container {\n",
              "      display:flex;\n",
              "      gap: 12px;\n",
              "    }\n",
              "\n",
              "    .colab-df-convert {\n",
              "      background-color: #E8F0FE;\n",
              "      border: none;\n",
              "      border-radius: 50%;\n",
              "      cursor: pointer;\n",
              "      display: none;\n",
              "      fill: #1967D2;\n",
              "      height: 32px;\n",
              "      padding: 0 0 0 0;\n",
              "      width: 32px;\n",
              "    }\n",
              "\n",
              "    .colab-df-convert:hover {\n",
              "      background-color: #E2EBFA;\n",
              "      box-shadow: 0px 1px 2px rgba(60, 64, 67, 0.3), 0px 1px 3px 1px rgba(60, 64, 67, 0.15);\n",
              "      fill: #174EA6;\n",
              "    }\n",
              "\n",
              "    .colab-df-buttons div {\n",
              "      margin-bottom: 4px;\n",
              "    }\n",
              "\n",
              "    [theme=dark] .colab-df-convert {\n",
              "      background-color: #3B4455;\n",
              "      fill: #D2E3FC;\n",
              "    }\n",
              "\n",
              "    [theme=dark] .colab-df-convert:hover {\n",
              "      background-color: #434B5C;\n",
              "      box-shadow: 0px 1px 3px 1px rgba(0, 0, 0, 0.15);\n",
              "      filter: drop-shadow(0px 1px 2px rgba(0, 0, 0, 0.3));\n",
              "      fill: #FFFFFF;\n",
              "    }\n",
              "  </style>\n",
              "\n",
              "    <script>\n",
              "      const buttonEl =\n",
              "        document.querySelector('#df-9949e14e-4b84-4e9f-ae62-3a39c2ab9642 button.colab-df-convert');\n",
              "      buttonEl.style.display =\n",
              "        google.colab.kernel.accessAllowed ? 'block' : 'none';\n",
              "\n",
              "      async function convertToInteractive(key) {\n",
              "        const element = document.querySelector('#df-9949e14e-4b84-4e9f-ae62-3a39c2ab9642');\n",
              "        const dataTable =\n",
              "          await google.colab.kernel.invokeFunction('convertToInteractive',\n",
              "                                                    [key], {});\n",
              "        if (!dataTable) return;\n",
              "\n",
              "        const docLinkHtml = 'Like what you see? Visit the ' +\n",
              "          '<a target=\"_blank\" href=https://colab.research.google.com/notebooks/data_table.ipynb>data table notebook</a>'\n",
              "          + ' to learn more about interactive tables.';\n",
              "        element.innerHTML = '';\n",
              "        dataTable['output_type'] = 'display_data';\n",
              "        await google.colab.output.renderOutput(dataTable, element);\n",
              "        const docLink = document.createElement('div');\n",
              "        docLink.innerHTML = docLinkHtml;\n",
              "        element.appendChild(docLink);\n",
              "      }\n",
              "    </script>\n",
              "  </div>\n",
              "\n",
              "\n",
              "<div id=\"df-57ff1b9a-74b2-4b59-842f-869f7584fc71\">\n",
              "  <button class=\"colab-df-quickchart\" onclick=\"quickchart('df-57ff1b9a-74b2-4b59-842f-869f7584fc71')\"\n",
              "            title=\"Suggest charts\"\n",
              "            style=\"display:none;\">\n",
              "\n",
              "<svg xmlns=\"http://www.w3.org/2000/svg\" height=\"24px\"viewBox=\"0 0 24 24\"\n",
              "     width=\"24px\">\n",
              "    <g>\n",
              "        <path d=\"M19 3H5c-1.1 0-2 .9-2 2v14c0 1.1.9 2 2 2h14c1.1 0 2-.9 2-2V5c0-1.1-.9-2-2-2zM9 17H7v-7h2v7zm4 0h-2V7h2v10zm4 0h-2v-4h2v4z\"/>\n",
              "    </g>\n",
              "</svg>\n",
              "  </button>\n",
              "\n",
              "<style>\n",
              "  .colab-df-quickchart {\n",
              "      --bg-color: #E8F0FE;\n",
              "      --fill-color: #1967D2;\n",
              "      --hover-bg-color: #E2EBFA;\n",
              "      --hover-fill-color: #174EA6;\n",
              "      --disabled-fill-color: #AAA;\n",
              "      --disabled-bg-color: #DDD;\n",
              "  }\n",
              "\n",
              "  [theme=dark] .colab-df-quickchart {\n",
              "      --bg-color: #3B4455;\n",
              "      --fill-color: #D2E3FC;\n",
              "      --hover-bg-color: #434B5C;\n",
              "      --hover-fill-color: #FFFFFF;\n",
              "      --disabled-bg-color: #3B4455;\n",
              "      --disabled-fill-color: #666;\n",
              "  }\n",
              "\n",
              "  .colab-df-quickchart {\n",
              "    background-color: var(--bg-color);\n",
              "    border: none;\n",
              "    border-radius: 50%;\n",
              "    cursor: pointer;\n",
              "    display: none;\n",
              "    fill: var(--fill-color);\n",
              "    height: 32px;\n",
              "    padding: 0;\n",
              "    width: 32px;\n",
              "  }\n",
              "\n",
              "  .colab-df-quickchart:hover {\n",
              "    background-color: var(--hover-bg-color);\n",
              "    box-shadow: 0 1px 2px rgba(60, 64, 67, 0.3), 0 1px 3px 1px rgba(60, 64, 67, 0.15);\n",
              "    fill: var(--button-hover-fill-color);\n",
              "  }\n",
              "\n",
              "  .colab-df-quickchart-complete:disabled,\n",
              "  .colab-df-quickchart-complete:disabled:hover {\n",
              "    background-color: var(--disabled-bg-color);\n",
              "    fill: var(--disabled-fill-color);\n",
              "    box-shadow: none;\n",
              "  }\n",
              "\n",
              "  .colab-df-spinner {\n",
              "    border: 2px solid var(--fill-color);\n",
              "    border-color: transparent;\n",
              "    border-bottom-color: var(--fill-color);\n",
              "    animation:\n",
              "      spin 1s steps(1) infinite;\n",
              "  }\n",
              "\n",
              "  @keyframes spin {\n",
              "    0% {\n",
              "      border-color: transparent;\n",
              "      border-bottom-color: var(--fill-color);\n",
              "      border-left-color: var(--fill-color);\n",
              "    }\n",
              "    20% {\n",
              "      border-color: transparent;\n",
              "      border-left-color: var(--fill-color);\n",
              "      border-top-color: var(--fill-color);\n",
              "    }\n",
              "    30% {\n",
              "      border-color: transparent;\n",
              "      border-left-color: var(--fill-color);\n",
              "      border-top-color: var(--fill-color);\n",
              "      border-right-color: var(--fill-color);\n",
              "    }\n",
              "    40% {\n",
              "      border-color: transparent;\n",
              "      border-right-color: var(--fill-color);\n",
              "      border-top-color: var(--fill-color);\n",
              "    }\n",
              "    60% {\n",
              "      border-color: transparent;\n",
              "      border-right-color: var(--fill-color);\n",
              "    }\n",
              "    80% {\n",
              "      border-color: transparent;\n",
              "      border-right-color: var(--fill-color);\n",
              "      border-bottom-color: var(--fill-color);\n",
              "    }\n",
              "    90% {\n",
              "      border-color: transparent;\n",
              "      border-bottom-color: var(--fill-color);\n",
              "    }\n",
              "  }\n",
              "</style>\n",
              "\n",
              "  <script>\n",
              "    async function quickchart(key) {\n",
              "      const quickchartButtonEl =\n",
              "        document.querySelector('#' + key + ' button');\n",
              "      quickchartButtonEl.disabled = true;  // To prevent multiple clicks.\n",
              "      quickchartButtonEl.classList.add('colab-df-spinner');\n",
              "      try {\n",
              "        const charts = await google.colab.kernel.invokeFunction(\n",
              "            'suggestCharts', [key], {});\n",
              "      } catch (error) {\n",
              "        console.error('Error during call to suggestCharts:', error);\n",
              "      }\n",
              "      quickchartButtonEl.classList.remove('colab-df-spinner');\n",
              "      quickchartButtonEl.classList.add('colab-df-quickchart-complete');\n",
              "    }\n",
              "    (() => {\n",
              "      let quickchartButtonEl =\n",
              "        document.querySelector('#df-57ff1b9a-74b2-4b59-842f-869f7584fc71 button');\n",
              "      quickchartButtonEl.style.display =\n",
              "        google.colab.kernel.accessAllowed ? 'block' : 'none';\n",
              "    })();\n",
              "  </script>\n",
              "</div>\n",
              "\n",
              "    </div>\n",
              "  </div>\n"
            ],
            "application/vnd.google.colaboratory.intrinsic+json": {
              "type": "dataframe",
              "variable_name": "df",
              "summary": "{\n  \"name\": \"df\",\n  \"rows\": 1915,\n  \"fields\": [\n    {\n      \"column\": \"Category\",\n      \"properties\": {\n        \"dtype\": \"category\",\n        \"num_unique_values\": 3,\n        \"samples\": [\n          \"Laptops\",\n          \"Smartphones\",\n          \"Headphones\"\n        ],\n        \"semantic_type\": \"\",\n        \"description\": \"\"\n      }\n    },\n    {\n      \"column\": \"Product Name\",\n      \"properties\": {\n        \"dtype\": \"string\",\n        \"num_unique_values\": 1130,\n        \"samples\": [\n          \"Nokia C32 with 50MP Dual Rear AI Camera | Toughened Glass Back | 4GB RAM, 128GB Storage | Upto 7GB RAM with RAM Extension | 5000 mAh Battery | 1 Year Replacement Warranty | Android 13 | Charcoal\",\n          \"boAt Bassheads 100 in Ear Wired Earphones with Mic(Furious Red)\",\n          \"Boult Audio Z40 True Wireless in Ear Earbuds with 60H Playtime, Zen\\u2122 ENC Mic, Low Latency Gaming, Type-C Fast Charging, Made in India, 10mm Rich Bass Drivers, IPX5, Bluetooth 5.3 Ear Buds TWS (Blue)\"\n        ],\n        \"semantic_type\": \"\",\n        \"description\": \"\"\n      }\n    },\n    {\n      \"column\": \"Price\",\n      \"properties\": {\n        \"dtype\": \"category\",\n        \"num_unique_values\": 591,\n        \"samples\": [\n          \"998\",\n          \"5,598\",\n          \"249\"\n        ],\n        \"semantic_type\": \"\",\n        \"description\": \"\"\n      }\n    },\n    {\n      \"column\": \"Rating\",\n      \"properties\": {\n        \"dtype\": \"category\",\n        \"num_unique_values\": 31,\n        \"samples\": [\n          \"2.2 out of 5 stars\",\n          \"2.0 out of 5 stars\",\n          \"3.1 out of 5 stars\"\n        ],\n        \"semantic_type\": \"\",\n        \"description\": \"\"\n      }\n    },\n    {\n      \"column\": \"Number of Reviews\",\n      \"properties\": {\n        \"dtype\": \"category\",\n        \"num_unique_values\": 488,\n        \"samples\": [\n          \"96\",\n          \"92\",\n          \"10,922\"\n        ],\n        \"semantic_type\": \"\",\n        \"description\": \"\"\n      }\n    },\n    {\n      \"column\": \"Discounts\",\n      \"properties\": {\n        \"dtype\": \"category\",\n        \"num_unique_values\": 90,\n        \"samples\": [\n          \"(28% off)\",\n          \"(23% off)\",\n          \"(76% off)\"\n        ],\n        \"semantic_type\": \"\",\n        \"description\": \"\"\n      }\n    },\n    {\n      \"column\": \"Link\",\n      \"properties\": {\n        \"dtype\": \"string\",\n        \"num_unique_values\": 1062,\n        \"samples\": [\n          \"https://www.amazon.in/sspa/click?ie=UTF8&spc=MTozODczNzgzNjMzMjQ1NzgxOjE3MzgxNDU5NDk6c3Bfc2VhcmNoX3RoZW1hdGljOjMwMDEwNzY0ODY4NjAzMjo6Mjo6&url=%2FLenovo-IdeaPad-Laptop-Windows-82R400ERIN%2Fdp%2FB0CP2KRYLM%2Fref%3Dsxin_12_pa_sp_search_thematic_sspa%3Fcontent-id%3Damzn1.sym.59126330-c308-4c36-a5a0-21cac002681f%253Aamzn1.sym.59126330-c308-4c36-a5a0-21cac002681f%26cv_ct_cx%3Dlaptops%26keywords%3Dlaptops%26pd_rd_i%3DB0CP2KRYLM%26pd_rd_r%3D50e09639-f73e-45d9-976d-29b3d176e3fb%26pd_rd_w%3DFNFLC%26pd_rd_wg%3DdXQUZ%26pf_rd_p%3D59126330-c308-4c36-a5a0-21cac002681f%26pf_rd_r%3DERBQJX5HT35A29RTYYQT%26qid%3D1738145949%26sbo%3DRZvfv%252F%252FHxDF%252BO5021pAnSA%253D%253D%26sr%3D1-19-2ec22325-1003-449d-8aaf-c0bcc24717ae-spons%26sp_csd%3Dd2lkZ2V0TmFtZT1zcF9zZWFyY2hfdGhlbWF0aWM%26psc%3D1\",\n          \"https://www.amazon.in/realme-Storage-Chipset-Comfort-Display/dp/B0D9ND2LCZ/ref=sr_1_52?dib=eyJ2IjoiMSJ9.gEnavcRSabx1kV2jAWp9RWDsngMLzNmIyod_Zro464LAe6S0nOhXHQiYowkHJ95UowtIOCnRC-FhvkGj6N5f50-I3-I4Gdd8n8hrysd6EJBzIYuZFXA70-gOdlYPd4gO27SoiVfajU07UNJUeAiSldbwf5DGa4za7UnPZrMaQdEjzEkk37VBHIliO3WNGPVGICmx62voJn0EAgZY6WSPGWMdNTJ8-jSbo6_P-ZCfv5o.yCj9UnYtXA3FztbKQyOyfKCIGg4RYZ7syYdGP_kJNtA&dib_tag=se&keywords=smartphone&qid=1738146276&sr=8-52\",\n          \"https://www.amazon.in/Samsung-Moonlight-Storage-Corning-Gorilla/dp/B0D8134JH8/ref=sr_1_161?dib=eyJ2IjoiMSJ9.ka9KC-TCB6uiA4hGrX2K-32yQJSNPoXkevHdCfN2AG-UnOuK78fw-cUex1DJOFE_JQeJqenPs7NtnTgHQADbFyiqVBBu3HRYwQdr7FSg5sq7jSAPfltnug21iIsN6AYnNgAz4RZ9o180zdzux38OnEgGUXAeuGYDKKa0wAD2sF6hwRosU2L5-Yv2E3oFhGqaQXwd0GtMiBYgVSc3wmwcy59j5AscCIzUGaLNY7T7DkY.QEZzHI8DU8iRVbKZ4zNxaO8Axk6O55qfxoDcSqgyuyM&dib_tag=se&keywords=smartphone&qid=1738146381&sr=8-161\"\n        ],\n        \"semantic_type\": \"\",\n        \"description\": \"\"\n      }\n    }\n  ]\n}"
            }
          },
          "metadata": {},
          "execution_count": 48
        }
      ]
    },
    {
      "cell_type": "code",
      "source": [
        "df.info()"
      ],
      "metadata": {
        "colab": {
          "base_uri": "https://localhost:8080/"
        },
        "id": "FwKW9TYwY3HS",
        "outputId": "72b04375-dab0-4f55-bb2a-5a72e5c66121"
      },
      "execution_count": 49,
      "outputs": [
        {
          "output_type": "stream",
          "name": "stdout",
          "text": [
            "<class 'pandas.core.frame.DataFrame'>\n",
            "RangeIndex: 1915 entries, 0 to 1914\n",
            "Data columns (total 7 columns):\n",
            " #   Column             Non-Null Count  Dtype \n",
            "---  ------             --------------  ----- \n",
            " 0   Category           1915 non-null   object\n",
            " 1   Product Name       1620 non-null   object\n",
            " 2   Price              1447 non-null   object\n",
            " 3   Rating             1322 non-null   object\n",
            " 4   Number of Reviews  1317 non-null   object\n",
            " 5   Discounts          1350 non-null   object\n",
            " 6   Link               1436 non-null   object\n",
            "dtypes: object(7)\n",
            "memory usage: 104.9+ KB\n"
          ]
        }
      ]
    },
    {
      "cell_type": "code",
      "source": [
        "# Drop rows where \"Product Name\" is missing or contains irrelevant data\n",
        "df = df.dropna(subset=[\"Product Name\"])\n",
        "df = df[df[\"Product Name\"].str.lower() != \"results\"]"
      ],
      "metadata": {
        "id": "sW4PrAycTHT9"
      },
      "execution_count": 50,
      "outputs": []
    },
    {
      "cell_type": "code",
      "source": [
        "# Ensure all text operations work correctly by converting columns to string first\n",
        "df[\"Price\"] = df[\"Price\"].astype(str).str.replace(\",\", \"\", regex=True).astype(float, errors='ignore')\n",
        "df[\"Rating\"] = df[\"Rating\"].astype(str).str.extract(r\"(\\d+\\.\\d+)\").astype(float, errors='ignore')\n",
        "df[\"Number of Reviews\"] = df[\"Number of Reviews\"].astype(str).str.replace(\",\", \"\", regex=True).astype(float, errors='ignore')\n",
        "df[\"Discounts\"] = df[\"Discounts\"].astype(str).str.extract(r\"(\\d+)\").astype(float, errors='ignore')\n"
      ],
      "metadata": {
        "id": "KX7Slfz9THa3"
      },
      "execution_count": 51,
      "outputs": []
    },
    {
      "cell_type": "code",
      "source": [
        "df.isnull().sum()"
      ],
      "metadata": {
        "colab": {
          "base_uri": "https://localhost:8080/",
          "height": 303
        },
        "id": "HKjVfLdaT56S",
        "outputId": "aff73cd9-4a5e-468f-b211-3088f9632f3b"
      },
      "execution_count": 52,
      "outputs": [
        {
          "output_type": "execute_result",
          "data": {
            "text/plain": [
              "Category               0\n",
              "Product Name           0\n",
              "Price                200\n",
              "Rating               240\n",
              "Number of Reviews    240\n",
              "Discounts            228\n",
              "Link                 126\n",
              "dtype: int64"
            ],
            "text/html": [
              "<div>\n",
              "<style scoped>\n",
              "    .dataframe tbody tr th:only-of-type {\n",
              "        vertical-align: middle;\n",
              "    }\n",
              "\n",
              "    .dataframe tbody tr th {\n",
              "        vertical-align: top;\n",
              "    }\n",
              "\n",
              "    .dataframe thead th {\n",
              "        text-align: right;\n",
              "    }\n",
              "</style>\n",
              "<table border=\"1\" class=\"dataframe\">\n",
              "  <thead>\n",
              "    <tr style=\"text-align: right;\">\n",
              "      <th></th>\n",
              "      <th>0</th>\n",
              "    </tr>\n",
              "  </thead>\n",
              "  <tbody>\n",
              "    <tr>\n",
              "      <th>Category</th>\n",
              "      <td>0</td>\n",
              "    </tr>\n",
              "    <tr>\n",
              "      <th>Product Name</th>\n",
              "      <td>0</td>\n",
              "    </tr>\n",
              "    <tr>\n",
              "      <th>Price</th>\n",
              "      <td>200</td>\n",
              "    </tr>\n",
              "    <tr>\n",
              "      <th>Rating</th>\n",
              "      <td>240</td>\n",
              "    </tr>\n",
              "    <tr>\n",
              "      <th>Number of Reviews</th>\n",
              "      <td>240</td>\n",
              "    </tr>\n",
              "    <tr>\n",
              "      <th>Discounts</th>\n",
              "      <td>228</td>\n",
              "    </tr>\n",
              "    <tr>\n",
              "      <th>Link</th>\n",
              "      <td>126</td>\n",
              "    </tr>\n",
              "  </tbody>\n",
              "</table>\n",
              "</div><br><label><b>dtype:</b> int64</label>"
            ]
          },
          "metadata": {},
          "execution_count": 52
        }
      ]
    },
    {
      "cell_type": "code",
      "source": [
        "df[\"Price\"].fillna(df[\"Price\"].mean(), inplace=True)\n",
        "df[\"Rating\"].fillna(df[\"Rating\"].median(), inplace=True)\n",
        "df[\"Discounts\"].fillna(df[\"Discounts\"].mode()[0], inplace=True)\n"
      ],
      "metadata": {
        "colab": {
          "base_uri": "https://localhost:8080/"
        },
        "id": "ie9VQku1T_So",
        "outputId": "e64a7999-b5bd-4c29-cdd8-8e341dabc581"
      },
      "execution_count": 53,
      "outputs": [
        {
          "output_type": "stream",
          "name": "stderr",
          "text": [
            "<ipython-input-53-8307babd204d>:1: FutureWarning: A value is trying to be set on a copy of a DataFrame or Series through chained assignment using an inplace method.\n",
            "The behavior will change in pandas 3.0. This inplace method will never work because the intermediate object on which we are setting values always behaves as a copy.\n",
            "\n",
            "For example, when doing 'df[col].method(value, inplace=True)', try using 'df.method({col: value}, inplace=True)' or df[col] = df[col].method(value) instead, to perform the operation inplace on the original object.\n",
            "\n",
            "\n",
            "  df[\"Price\"].fillna(df[\"Price\"].mean(), inplace=True)\n",
            "<ipython-input-53-8307babd204d>:2: FutureWarning: A value is trying to be set on a copy of a DataFrame or Series through chained assignment using an inplace method.\n",
            "The behavior will change in pandas 3.0. This inplace method will never work because the intermediate object on which we are setting values always behaves as a copy.\n",
            "\n",
            "For example, when doing 'df[col].method(value, inplace=True)', try using 'df.method({col: value}, inplace=True)' or df[col] = df[col].method(value) instead, to perform the operation inplace on the original object.\n",
            "\n",
            "\n",
            "  df[\"Rating\"].fillna(df[\"Rating\"].median(), inplace=True)\n",
            "<ipython-input-53-8307babd204d>:3: FutureWarning: A value is trying to be set on a copy of a DataFrame or Series through chained assignment using an inplace method.\n",
            "The behavior will change in pandas 3.0. This inplace method will never work because the intermediate object on which we are setting values always behaves as a copy.\n",
            "\n",
            "For example, when doing 'df[col].method(value, inplace=True)', try using 'df.method({col: value}, inplace=True)' or df[col] = df[col].method(value) instead, to perform the operation inplace on the original object.\n",
            "\n",
            "\n",
            "  df[\"Discounts\"].fillna(df[\"Discounts\"].mode()[0], inplace=True)\n"
          ]
        }
      ]
    },
    {
      "cell_type": "code",
      "source": [
        "df.dropna(subset=[\"Number of Reviews\"], inplace=True)\n",
        "df.dropna(subset=[\"Link\"], inplace=True)"
      ],
      "metadata": {
        "id": "KHQ4UpbkVvQK"
      },
      "execution_count": 54,
      "outputs": []
    },
    {
      "cell_type": "code",
      "source": [
        "df.isnull().sum()"
      ],
      "metadata": {
        "colab": {
          "base_uri": "https://localhost:8080/",
          "height": 303
        },
        "id": "CUzkmFJzUOWy",
        "outputId": "133b2362-b88f-4378-dc23-971d7edaec66"
      },
      "execution_count": 55,
      "outputs": [
        {
          "output_type": "execute_result",
          "data": {
            "text/plain": [
              "Category             0\n",
              "Product Name         0\n",
              "Price                0\n",
              "Rating               0\n",
              "Number of Reviews    0\n",
              "Discounts            0\n",
              "Link                 0\n",
              "dtype: int64"
            ],
            "text/html": [
              "<div>\n",
              "<style scoped>\n",
              "    .dataframe tbody tr th:only-of-type {\n",
              "        vertical-align: middle;\n",
              "    }\n",
              "\n",
              "    .dataframe tbody tr th {\n",
              "        vertical-align: top;\n",
              "    }\n",
              "\n",
              "    .dataframe thead th {\n",
              "        text-align: right;\n",
              "    }\n",
              "</style>\n",
              "<table border=\"1\" class=\"dataframe\">\n",
              "  <thead>\n",
              "    <tr style=\"text-align: right;\">\n",
              "      <th></th>\n",
              "      <th>0</th>\n",
              "    </tr>\n",
              "  </thead>\n",
              "  <tbody>\n",
              "    <tr>\n",
              "      <th>Category</th>\n",
              "      <td>0</td>\n",
              "    </tr>\n",
              "    <tr>\n",
              "      <th>Product Name</th>\n",
              "      <td>0</td>\n",
              "    </tr>\n",
              "    <tr>\n",
              "      <th>Price</th>\n",
              "      <td>0</td>\n",
              "    </tr>\n",
              "    <tr>\n",
              "      <th>Rating</th>\n",
              "      <td>0</td>\n",
              "    </tr>\n",
              "    <tr>\n",
              "      <th>Number of Reviews</th>\n",
              "      <td>0</td>\n",
              "    </tr>\n",
              "    <tr>\n",
              "      <th>Discounts</th>\n",
              "      <td>0</td>\n",
              "    </tr>\n",
              "    <tr>\n",
              "      <th>Link</th>\n",
              "      <td>0</td>\n",
              "    </tr>\n",
              "  </tbody>\n",
              "</table>\n",
              "</div><br><label><b>dtype:</b> int64</label>"
            ]
          },
          "metadata": {},
          "execution_count": 55
        }
      ]
    },
    {
      "cell_type": "code",
      "source": [
        "df.duplicated().sum()"
      ],
      "metadata": {
        "colab": {
          "base_uri": "https://localhost:8080/"
        },
        "id": "kD2s5Au9WGp2",
        "outputId": "1d9f39d9-31ff-4a16-f44c-f03c22270234"
      },
      "execution_count": 56,
      "outputs": [
        {
          "output_type": "execute_result",
          "data": {
            "text/plain": [
              "0"
            ]
          },
          "metadata": {},
          "execution_count": 56
        }
      ]
    },
    {
      "cell_type": "code",
      "source": [
        "df.shape"
      ],
      "metadata": {
        "id": "dPZs_5mVW1X1"
      },
      "execution_count": null,
      "outputs": []
    },
    {
      "cell_type": "code",
      "source": [
        "# Save the corrected cleaned dataset\n",
        "cleaned_file_path = \"amazon_products1_cleaned.csv\"\n",
        "df.to_csv(cleaned_file_path, index=False)\n",
        "\n",
        "# Display updated dataset info\n",
        "df.info(), df.head()"
      ],
      "metadata": {
        "colab": {
          "base_uri": "https://localhost:8080/"
        },
        "id": "wNMbVOhWTHeQ",
        "outputId": "e515dc87-1887-4f49-9c4b-3fce7b42d418"
      },
      "execution_count": 57,
      "outputs": [
        {
          "output_type": "stream",
          "name": "stdout",
          "text": [
            "<class 'pandas.core.frame.DataFrame'>\n",
            "Index: 1317 entries, 2 to 1910\n",
            "Data columns (total 7 columns):\n",
            " #   Column             Non-Null Count  Dtype  \n",
            "---  ------             --------------  -----  \n",
            " 0   Category           1317 non-null   object \n",
            " 1   Product Name       1317 non-null   object \n",
            " 2   Price              1317 non-null   float64\n",
            " 3   Rating             1317 non-null   float64\n",
            " 4   Number of Reviews  1317 non-null   float64\n",
            " 5   Discounts          1317 non-null   float64\n",
            " 6   Link               1317 non-null   object \n",
            "dtypes: float64(4), object(3)\n",
            "memory usage: 82.3+ KB\n"
          ]
        },
        {
          "output_type": "execute_result",
          "data": {
            "text/plain": [
              "(None,\n",
              "   Category                                       Product Name     Price  \\\n",
              " 2  Laptops  Lenovo Yoga Slim 7 Aura Edition Intel Evo Core...  147990.0   \n",
              " 3  Laptops  Lenovo ThinkBook 14 Intel 13th Gen Core i3 14\"...   43990.0   \n",
              " 4  Laptops  (Refurbished) Lenovo ThinkPad 8th Gen Intel Co...   18499.0   \n",
              " 5  Laptops  Lenovo V14 G3 Intel Core i5 12th Gen 1235U /16...   37350.0   \n",
              " 6  Laptops  HP Laptop 255 G9 AMD Ryzen 3 3250U Dual Core -...   24995.0   \n",
              " \n",
              "    Rating  Number of Reviews  Discounts  \\\n",
              " 2     5.0                3.0       29.0   \n",
              " 3     4.1               15.0       42.0   \n",
              " 4     3.4              173.0       63.0   \n",
              " 5     3.6               17.0       19.0   \n",
              " 6     3.4                5.0       44.0   \n",
              " \n",
              "                                                 Link  \n",
              " 2                 https://www.amazon.in/s?k=laptops#  \n",
              " 3                 https://www.amazon.in/s?k=laptops#  \n",
              " 4  https://www.amazon.in/Refurbished-Lenovo-Think...  \n",
              " 5  https://www.amazon.in/Lenovo-V14-G3-Graphics-B...  \n",
              " 6  https://www.amazon.in/HP-Laptop-255-G9-Ryzen/d...  )"
            ]
          },
          "metadata": {},
          "execution_count": 57
        }
      ]
    },
    {
      "cell_type": "code",
      "source": [],
      "metadata": {
        "id": "CNd7NUpYTHhx"
      },
      "execution_count": 29,
      "outputs": []
    },
    {
      "cell_type": "code",
      "source": [],
      "metadata": {
        "id": "yvT44zQ6Y3Q6"
      },
      "execution_count": 30,
      "outputs": []
    }
  ]
}